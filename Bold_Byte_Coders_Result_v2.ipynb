{
  "nbformat": 4,
  "nbformat_minor": 0,
  "metadata": {
    "colab": {
      "provenance": [],
      "collapsed_sections": [
        "xvuIIZsxuajw",
        "0Wz7qDiFOjHD",
        "pBYAb_VTrDaN",
        "vxVvIGvmyBq8",
        "8Cm8NRu48FVO",
        "_vb6lR4GBzzs",
        "c-XIoIF4evrs",
        "WESMKhYSpWPv",
        "9KMykaWJrXX1",
        "RmKgJf3ysRbt",
        "9zoMdZ7us8_N",
        "mhvJBSvotgtm",
        "9EXlwAAcratD"
      ],
      "gpuType": "T4"
    },
    "kernelspec": {
      "name": "python3",
      "display_name": "Python 3"
    },
    "language_info": {
      "name": "python"
    },
    "accelerator": "GPU"
  },
  "cells": [
    {
      "cell_type": "markdown",
      "source": [
        "### Установка"
      ],
      "metadata": {
        "id": "xvuIIZsxuajw"
      }
    },
    {
      "cell_type": "code",
      "source": [
        "!pip install rdkit\n",
        "!pip install descriptastorus\n",
        "!pip install plotly"
      ],
      "metadata": {
        "id": "CUzQ9_vmk7ZX"
      },
      "execution_count": null,
      "outputs": []
    },
    {
      "cell_type": "code",
      "source": [
        "!pip install chemprop"
      ],
      "metadata": {
        "id": "pZUx1Ak2q6pF"
      },
      "execution_count": null,
      "outputs": []
    },
    {
      "cell_type": "code",
      "source": [
        "!pip install torch-geometric"
      ],
      "metadata": {
        "id": "OU-zKg8p21ec"
      },
      "execution_count": null,
      "outputs": []
    },
    {
      "cell_type": "code",
      "source": [
        "import pandas as pd\n",
        "import numpy as np\n",
        "import matplotlib.pyplot as plt\n",
        "import seaborn as sns\n",
        "\n",
        "from rdkit import Chem, DataStructs\n",
        "from rdkit.Chem import AllChem, Draw, Descriptors, PandasTools\n",
        "from rdkit.Chem.Draw import IPythonConsole\n",
        "from descriptastorus.descriptors import rdNormalizedDescriptors, rdDescriptors\n",
        "\n",
        "from math import sqrt\n",
        "\n",
        "from xgboost import XGBRegressor\n",
        "\n",
        "from sklearn.feature_selection import f_classif\n",
        "from sklearn.preprocessing import MinMaxScaler\n",
        "from sklearn.model_selection import train_test_split\n",
        "from sklearn.metrics import mean_squared_error, mean_absolute_error, mean_squared_error, r2_score, explained_variance_score, mean_absolute_percentage_error\n",
        "from sklearn.preprocessing import StandardScaler\n",
        "from sklearn.model_selection import train_test_split\n",
        "from sklearn.linear_model import LinearRegression, Lasso, Ridge\n",
        "from sklearn.ensemble import RandomForestRegressor, GradientBoostingRegressor\n",
        "from sklearn.svm import SVR\n",
        "from sklearn.decomposition import PCA\n",
        "\n",
        "import plotly.graph_objs as go\n",
        "import plotly.express as px\n",
        "\n",
        "import tensorflow as tf\n",
        "from keras.models import Sequential\n",
        "from keras.layers import Dense, LSTM\n",
        "\n",
        "from multiprocessing import Pool\n",
        "from tqdm import tqdm\n",
        "\n",
        "from chemprop.features import morgan_binary_features_generator"
      ],
      "metadata": {
        "id": "1I34YpdsZryC"
      },
      "execution_count": null,
      "outputs": []
    },
    {
      "cell_type": "markdown",
      "source": [
        "# Подготовка к запуску"
      ],
      "metadata": {
        "id": "kRp2SOONAjWk"
      }
    },
    {
      "cell_type": "markdown",
      "source": [
        "## Подготовка df_1"
      ],
      "metadata": {
        "id": "ROkuxR4tntcI"
      }
    },
    {
      "cell_type": "code",
      "source": [
        "df_1 = pd.read_excel('1400.xlsx', sheet_name='Smile-IC50-CC50')\n",
        "df_1['SI'] = df_1['CC50-MDCK, mmg/ml']/df_1['IC50, mmg/ml']\n",
        "df_1['S_leng'] = df_1['SMILES'].str.len ()\n",
        "df_1 = df_1.drop(['Title', 'Pictures', 'Hydrogen bond acceptors', 'Hydrogen bond donors', 'Polar SA'], axis=1)\n",
        "# df_1.describe()"
      ],
      "metadata": {
        "id": "g75RE-6PLFmu"
      },
      "execution_count": null,
      "outputs": []
    },
    {
      "cell_type": "code",
      "source": [
        "df_1 = df_1[df_1['IC50, mmg/ml'] < 250]\n",
        "df_1 = df_1[df_1['CC50-MDCK, mmg/ml'] < 500]\n",
        "df_1 = df_1[df_1['SI'] <= 100]\n",
        "df_1 = df_1[(df_1['S_leng'] <= 200) & (0 <= df_1['S_leng'])]\n",
        "df_1 = df_1[df_1['Molecular weight'] <= 1250]\n",
        "\n",
        "df_1 = df_1.dropna()"
      ],
      "metadata": {
        "id": "0h2jrTOFOHA6"
      },
      "execution_count": null,
      "outputs": []
    },
    {
      "cell_type": "code",
      "source": [
        "sns.histplot(df_1['SI'])"
      ],
      "metadata": {
        "colab": {
          "base_uri": "https://localhost:8080/"
        },
        "id": "JEtDPMk2LbXG",
        "outputId": "89dd5edd-5720-4302-c0fd-33a9c4227bf6"
      },
      "execution_count": null,
      "outputs": [
        {
          "output_type": "execute_result",
          "data": {
            "text/plain": [
              "<Axes: xlabel='SI', ylabel='Count'>"
            ]
          },
          "metadata": {},
          "execution_count": 257
        },
        {
          "output_type": "display_data",
          "data": {
            "text/plain": [
              "<Figure size 640x480 with 1 Axes>"
            ],
            "image/png": "[encoded data removed]"
          },
          "metadata": {}
        }
      ]
    },
    {
      "cell_type": "code",
      "source": [
        "sns.histplot(df_1['CC50-MDCK, mmg/ml'])"
      ],
      "metadata": {
        "colab": {
          "base_uri": "https://localhost:8080/"
        },
        "id": "leh1cdGLLqDf",
        "outputId": "3bfba493-1bfc-4ae6-d07c-3e662af9cd6f"
      },
      "execution_count": null,
      "outputs": [
        {
          "output_type": "execute_result",
          "data": {
            "text/plain": [
              "<Axes: xlabel='CC50-MDCK, mmg/ml', ylabel='Count'>"
            ]
          },
          "metadata": {},
          "execution_count": 258
        },
        {
          "output_type": "display_data",
          "data": {
            "text/plain": [
              "<Figure size 640x480 with 1 Axes>"
            ],
            "image/png": "[encoded data removed]"
          },
          "metadata": {}
        }
      ]
    },
    {
      "cell_type": "code",
      "source": [
        "sns.histplot(df_1['IC50, mmg/ml'])"
      ],
      "metadata": {
        "colab": {
          "base_uri": "https://localhost:8080/"
        },
        "id": "532OjWVDLnGp",
        "outputId": "6abb6c7b-b3cd-4dee-b4bc-9a00106e42a3"
      },
      "execution_count": null,
      "outputs": [
        {
          "output_type": "execute_result",
          "data": {
            "text/plain": [
              "<Axes: xlabel='IC50, mmg/ml', ylabel='Count'>"
            ]
          },
          "metadata": {},
          "execution_count": 259
        },
        {
          "output_type": "display_data",
          "data": {
            "text/plain": [
              "<Figure size 640x480 with 1 Axes>"
            ],
            "image/png": "[encoded data removed]"
          },
          "metadata": {}
        }
      ]
    },
    {
      "cell_type": "code",
      "source": [
        "sns.histplot(df_1['Molecular weight'])"
      ],
      "metadata": {
        "colab": {
          "base_uri": "https://localhost:8080/"
        },
        "id": "G8ovE_o4w-xM",
        "outputId": "3400279f-3fe3-4de7-974d-80b471bdcbce"
      },
      "execution_count": null,
      "outputs": [
        {
          "output_type": "execute_result",
          "data": {
            "text/plain": [
              "<Axes: xlabel='Molecular weight', ylabel='Count'>"
            ]
          },
          "metadata": {},
          "execution_count": 260
        },
        {
          "output_type": "display_data",
          "data": {
            "text/plain": [
              "<Figure size 640x480 with 1 Axes>"
            ],
            "image/png": "[encoded data removed]"
          },
          "metadata": {}
        }
      ]
    },
    {
      "cell_type": "code",
      "source": [
        "sns.histplot(df_1['S_leng'])"
      ],
      "metadata": {
        "colab": {
          "base_uri": "https://localhost:8080/"
        },
        "id": "qYl_KNP9OVtu",
        "outputId": "343f5208-1930-47e4-9a9b-26268bf65e25"
      },
      "execution_count": null,
      "outputs": [
        {
          "output_type": "execute_result",
          "data": {
            "text/plain": [
              "<Axes: xlabel='S_leng', ylabel='Count'>"
            ]
          },
          "metadata": {},
          "execution_count": 261
        },
        {
          "output_type": "display_data",
          "data": {
            "text/plain": [
              "<Figure size 640x480 with 1 Axes>"
            ],
            "image/png": "[encoded data removed]"
          },
          "metadata": {}
        }
      ]
    },
    {
      "cell_type": "code",
      "source": [
        "df_1 = df_1.drop(['CC50-MDCK, mmg/ml', 'IC50, mmg/ml', 'S_leng', 'Molecular weight'], axis=1)"
      ],
      "metadata": {
        "id": "1VoZ8inAoGD4"
      },
      "execution_count": null,
      "outputs": []
    },
    {
      "cell_type": "code",
      "source": [
        "df_1.describe()"
      ],
      "metadata": {
        "colab": {
          "base_uri": "https://localhost:8080/"
        },
        "id": "HISS7yz6ZMFo",
        "outputId": "920d7b1b-f27c-429a-a455-227bc1c2fd82"
      },
      "execution_count": null,
      "outputs": [
        {
          "output_type": "execute_result",
          "data": {
            "text/plain": [
              "                SI\n",
              "count  1120.000000\n",
              "mean     12.638341\n",
              "std      18.196130\n",
              "min       0.036161\n",
              "25%       1.991431\n",
              "50%       4.770054\n",
              "75%      14.709059\n",
              "max     100.000000"
            ],
            "text/html": [
              "\n",
              "  <div id=\"df-650219a7-a047-44d5-b2a3-1a04f60ae3d2\" class=\"colab-df-container\">\n",
              "    <div>\n",
              "<style scoped>\n",
              "    .dataframe tbody tr th:only-of-type {\n",
              "        vertical-align: middle;\n",
              "    }\n",
              "\n",
              "    .dataframe tbody tr th {\n",
              "        vertical-align: top;\n",
              "    }\n",
              "\n",
              "    .dataframe thead th {\n",
              "        text-align: right;\n",
              "    }\n",
              "</style>\n",
              "<table border=\"1\" class=\"dataframe\">\n",
              "  <thead>\n",
              "    <tr style=\"text-align: right;\">\n",
              "      <th></th>\n",
              "      <th>SI</th>\n",
              "    </tr>\n",
              "  </thead>\n",
              "  <tbody>\n",
              "    <tr>\n",
              "      <th>count</th>\n",
              "      <td>1120.000000</td>\n",
              "    </tr>\n",
              "    <tr>\n",
              "      <th>mean</th>\n",
              "      <td>12.638341</td>\n",
              "    </tr>\n",
              "    <tr>\n",
              "      <th>std</th>\n",
              "      <td>18.196130</td>\n",
              "    </tr>\n",
              "    <tr>\n",
              "      <th>min</th>\n",
              "      <td>0.036161</td>\n",
              "    </tr>\n",
              "    <tr>\n",
              "      <th>25%</th>\n",
              "      <td>1.991431</td>\n",
              "    </tr>\n",
              "    <tr>\n",
              "      <th>50%</th>\n",
              "      <td>4.770054</td>\n",
              "    </tr>\n",
              "    <tr>\n",
              "      <th>75%</th>\n",
              "      <td>14.709059</td>\n",
              "    </tr>\n",
              "    <tr>\n",
              "      <th>max</th>\n",
              "      <td>100.000000</td>\n",
              "    </tr>\n",
              "  </tbody>\n",
              "</table>\n",
              "</div>\n",
              "    <div class=\"colab-df-buttons\">\n",
              "\n",
              "  <div class=\"colab-df-container\">\n",
              "    <button class=\"colab-df-convert\" onclick=\"convertToInteractive('df-650219a7-a047-44d5-b2a3-1a04f60ae3d2')\"\n",
              "            title=\"Convert this dataframe to an interactive table.\"\n",
              "            style=\"display:none;\">\n",
              "\n",
              "  <svg xmlns=\"http://www.w3.org/2000/svg\" height=\"24px\" viewBox=\"0 -960 960 960\">\n",
              "    <path d=\"M120-120v-720h720v720H120Zm60-500h600v-160H180v160Zm220 220h160v-160H400v160Zm0 220h160v-160H400v160ZM180-400h160v-160H180v160Zm440 0h160v-160H620v160ZM180-180h160v-160H180v160Zm440 0h160v-160H620v160Z\"/>\n",
              "  </svg>\n",
              "    </button>\n",
              "\n",
              "  <style>\n",
              "    .colab-df-container {\n",
              "      display:flex;\n",
              "      gap: 12px;\n",
              "    }\n",
              "\n",
              "    .colab-df-convert {\n",
              "      background-color: #E8F0FE;\n",
              "      border: none;\n",
              "      border-radius: 50%;\n",
              "      cursor: pointer;\n",
              "      display: none;\n",
              "      fill: #1967D2;\n",
              "      height: 32px;\n",
              "      padding: 0 0 0 0;\n",
              "      width: 32px;\n",
              "    }\n",
              "\n",
              "    .colab-df-convert:hover {\n",
              "      background-color: #E2EBFA;\n",
              "      box-shadow: 0px 1px 2px rgba(60, 64, 67, 0.3), 0px 1px 3px 1px rgba(60, 64, 67, 0.15);\n",
              "      fill: #174EA6;\n",
              "    }\n",
              "\n",
              "    .colab-df-buttons div {\n",
              "      margin-bottom: 4px;\n",
              "    }\n",
              "\n",
              "    [theme=dark] .colab-df-convert {\n",
              "      background-color: #3B4455;\n",
              "      fill: #D2E3FC;\n",
              "    }\n",
              "\n",
              "    [theme=dark] .colab-df-convert:hover {\n",
              "      background-color: #434B5C;\n",
              "      box-shadow: 0px 1px 3px 1px rgba(0, 0, 0, 0.15);\n",
              "      filter: drop-shadow(0px 1px 2px rgba(0, 0, 0, 0.3));\n",
              "      fill: #FFFFFF;\n",
              "    }\n",
              "  </style>\n",
              "\n",
              "    <script>\n",
              "      const buttonEl =\n",
              "        document.querySelector('#df-650219a7-a047-44d5-b2a3-1a04f60ae3d2 button.colab-df-convert');\n",
              "      buttonEl.style.display =\n",
              "        google.colab.kernel.accessAllowed ? 'block' : 'none';\n",
              "\n",
              "      async function convertToInteractive(key) {\n",
              "        const element = document.querySelector('#df-650219a7-a047-44d5-b2a3-1a04f60ae3d2');\n",
              "        const dataTable =\n",
              "          await google.colab.kernel.invokeFunction('convertToInteractive',\n",
              "                                                    [key], {});\n",
              "        if (!dataTable) return;\n",
              "\n",
              "        const docLinkHtml = 'Like what you see? Visit the ' +\n",
              "          '<a target=\"_blank\" href=https://colab.research.google.com/notebooks/data_table.ipynb>data table notebook</a>'\n",
              "          + ' to learn more about interactive tables.';\n",
              "        element.innerHTML = '';\n",
              "        dataTable['output_type'] = 'display_data';\n",
              "        await google.colab.output.renderOutput(dataTable, element);\n",
              "        const docLink = document.createElement('div');\n",
              "        docLink.innerHTML = docLinkHtml;\n",
              "        element.appendChild(docLink);\n",
              "      }\n",
              "    </script>\n",
              "  </div>\n",
              "\n",
              "\n",
              "<div id=\"df-1fc45146-0fc6-4f0e-b1e6-b6387cd99726\">\n",
              "  <button class=\"colab-df-quickchart\" onclick=\"quickchart('df-1fc45146-0fc6-4f0e-b1e6-b6387cd99726')\"\n",
              "            title=\"Suggest charts.\"\n",
              "            style=\"display:none;\">\n",
              "\n",
              "<svg xmlns=\"http://www.w3.org/2000/svg\" height=\"24px\"viewBox=\"0 0 24 24\"\n",
              "     width=\"24px\">\n",
              "    <g>\n",
              "        <path d=\"M19 3H5c-1.1 0-2 .9-2 2v14c0 1.1.9 2 2 2h14c1.1 0 2-.9 2-2V5c0-1.1-.9-2-2-2zM9 17H7v-7h2v7zm4 0h-2V7h2v10zm4 0h-2v-4h2v4z\"/>\n",
              "    </g>\n",
              "</svg>\n",
              "  </button>\n",
              "\n",
              "<style>\n",
              "  .colab-df-quickchart {\n",
              "      --bg-color: #E8F0FE;\n",
              "      --fill-color: #1967D2;\n",
              "      --hover-bg-color: #E2EBFA;\n",
              "      --hover-fill-color: #174EA6;\n",
              "      --disabled-fill-color: #AAA;\n",
              "      --disabled-bg-color: #DDD;\n",
              "  }\n",
              "\n",
              "  [theme=dark] .colab-df-quickchart {\n",
              "      --bg-color: #3B4455;\n",
              "      --fill-color: #D2E3FC;\n",
              "      --hover-bg-color: #434B5C;\n",
              "      --hover-fill-color: #FFFFFF;\n",
              "      --disabled-bg-color: #3B4455;\n",
              "      --disabled-fill-color: #666;\n",
              "  }\n",
              "\n",
              "  .colab-df-quickchart {\n",
              "    background-color: var(--bg-color);\n",
              "    border: none;\n",
              "    border-radius: 50%;\n",
              "    cursor: pointer;\n",
              "    display: none;\n",
              "    fill: var(--fill-color);\n",
              "    height: 32px;\n",
              "    padding: 0;\n",
              "    width: 32px;\n",
              "  }\n",
              "\n",
              "  .colab-df-quickchart:hover {\n",
              "    background-color: var(--hover-bg-color);\n",
              "    box-shadow: 0 1px 2px rgba(60, 64, 67, 0.3), 0 1px 3px 1px rgba(60, 64, 67, 0.15);\n",
              "    fill: var(--button-hover-fill-color);\n",
              "  }\n",
              "\n",
              "  .colab-df-quickchart-complete:disabled,\n",
              "  .colab-df-quickchart-complete:disabled:hover {\n",
              "    background-color: var(--disabled-bg-color);\n",
              "    fill: var(--disabled-fill-color);\n",
              "    box-shadow: none;\n",
              "  }\n",
              "\n",
              "  .colab-df-spinner {\n",
              "    border: 2px solid var(--fill-color);\n",
              "    border-color: transparent;\n",
              "    border-bottom-color: var(--fill-color);\n",
              "    animation:\n",
              "      spin 1s steps(1) infinite;\n",
              "  }\n",
              "\n",
              "  @keyframes spin {\n",
              "    0% {\n",
              "      border-color: transparent;\n",
              "      border-bottom-color: var(--fill-color);\n",
              "      border-left-color: var(--fill-color);\n",
              "    }\n",
              "    20% {\n",
              "      border-color: transparent;\n",
              "      border-left-color: var(--fill-color);\n",
              "      border-top-color: var(--fill-color);\n",
              "    }\n",
              "    30% {\n",
              "      border-color: transparent;\n",
              "      border-left-color: var(--fill-color);\n",
              "      border-top-color: var(--fill-color);\n",
              "      border-right-color: var(--fill-color);\n",
              "    }\n",
              "    40% {\n",
              "      border-color: transparent;\n",
              "      border-right-color: var(--fill-color);\n",
              "      border-top-color: var(--fill-color);\n",
              "    }\n",
              "    60% {\n",
              "      border-color: transparent;\n",
              "      border-right-color: var(--fill-color);\n",
              "    }\n",
              "    80% {\n",
              "      border-color: transparent;\n",
              "      border-right-color: var(--fill-color);\n",
              "      border-bottom-color: var(--fill-color);\n",
              "    }\n",
              "    90% {\n",
              "      border-color: transparent;\n",
              "      border-bottom-color: var(--fill-color);\n",
              "    }\n",
              "  }\n",
              "</style>\n",
              "\n",
              "  <script>\n",
              "    async function quickchart(key) {\n",
              "      const quickchartButtonEl =\n",
              "        document.querySelector('#' + key + ' button');\n",
              "      quickchartButtonEl.disabled = true;  // To prevent multiple clicks.\n",
              "      quickchartButtonEl.classList.add('colab-df-spinner');\n",
              "      try {\n",
              "        const charts = await google.colab.kernel.invokeFunction(\n",
              "            'suggestCharts', [key], {});\n",
              "      } catch (error) {\n",
              "        console.error('Error during call to suggestCharts:', error);\n",
              "      }\n",
              "      quickchartButtonEl.classList.remove('colab-df-spinner');\n",
              "      quickchartButtonEl.classList.add('colab-df-quickchart-complete');\n",
              "    }\n",
              "    (() => {\n",
              "      let quickchartButtonEl =\n",
              "        document.querySelector('#df-1fc45146-0fc6-4f0e-b1e6-b6387cd99726 button');\n",
              "      quickchartButtonEl.style.display =\n",
              "        google.colab.kernel.accessAllowed ? 'block' : 'none';\n",
              "    })();\n",
              "  </script>\n",
              "</div>\n",
              "    </div>\n",
              "  </div>\n"
            ]
          },
          "metadata": {},
          "execution_count": 263
        }
      ]
    },
    {
      "cell_type": "markdown",
      "source": [
        "## Дескрипторы"
      ],
      "metadata": {
        "id": "ePSaXy0O7ASF"
      }
    },
    {
      "cell_type": "markdown",
      "source": [
        "### Дескриптор 1 c 200 признаками с хабра"
      ],
      "metadata": {
        "id": "0Wz7qDiFOjHD"
      }
    },
    {
      "cell_type": "code",
      "source": [
        "def create_feature_dataframe(df):\n",
        "    feature_names = [x[0] for x in generator.columns]\n",
        "\n",
        "    rdkit_feats = []\n",
        "    for i in range(len(df)):\n",
        "        smiles = df.iloc[i]['SMILES']\n",
        "        target_value = df.iloc[i]['SI']\n",
        "        features = generator.process(smiles)\n",
        "        dictionary = dict(zip(feature_names, features[1:]))\n",
        "        dictionary['target'] = target_value\n",
        "        rdkit_feats.append(dictionary)\n",
        "\n",
        "    return pd.DataFrame(rdkit_feats)"
      ],
      "metadata": {
        "id": "UfnH1dLKL3eR"
      },
      "execution_count": null,
      "outputs": []
    },
    {
      "cell_type": "code",
      "source": [
        "# generator = rdNormalizedDescriptors.RDKit2DNormalized()\n",
        "# new_df_1 = create_feature_dataframe(df_1)\n",
        "# new_df_1 = new_df_1.dropna()"
      ],
      "metadata": {
        "id": "6Lyk2J6nvJ81"
      },
      "execution_count": null,
      "outputs": []
    },
    {
      "cell_type": "code",
      "source": [
        "# removed_indices = new_df_1[new_df_1.isna().any(axis=1)].index\n",
        "# df_1.reset_index(inplace=True, drop=True)\n",
        "# df_1 = df_1.drop(removed_indices)"
      ],
      "metadata": {
        "id": "mT6CVmM777nO"
      },
      "execution_count": null,
      "outputs": []
    },
    {
      "cell_type": "code",
      "source": [
        "# new_df_1.describe()"
      ],
      "metadata": {
        "id": "FY-Pn1sfL806"
      },
      "execution_count": null,
      "outputs": []
    },
    {
      "cell_type": "code",
      "source": [
        "# new_df.to_csv('new_df_2 IC50 до 15 около 35к.csv', index=False)"
      ],
      "metadata": {
        "id": "pWGxjC2FVayR"
      },
      "execution_count": null,
      "outputs": []
    },
    {
      "cell_type": "markdown",
      "source": [
        "### Дескриптор 2 chem_desc"
      ],
      "metadata": {
        "id": "pBYAb_VTrDaN"
      }
    },
    {
      "cell_type": "code",
      "source": [
        "def chem_desc(df):\n",
        "    mols = df['SMILES'].to_list()\n",
        "    mols = list(map(Chem.MolFromSmiles, mols))\n",
        "    descrs = [Descriptors.CalcMolDescriptors(mol) for mol in mols]\n",
        "    df_with_new_desc = pd.DataFrame(descrs)\n",
        "    df_with_new_desc['target'] = list(df['SI'])\n",
        "    return df_with_new_desc"
      ],
      "metadata": {
        "id": "fORr5ZfErJ3m"
      },
      "execution_count": null,
      "outputs": []
    },
    {
      "cell_type": "code",
      "source": [
        "# new_df_2 = chem_desc(df_1)\n",
        "# new_df_2 = new_df_2.dropna()"
      ],
      "metadata": {
        "id": "mjo5UCvTvA-d"
      },
      "execution_count": null,
      "outputs": []
    },
    {
      "cell_type": "code",
      "source": [
        "# new_df_2.describe()"
      ],
      "metadata": {
        "id": "e1z_TGxB7l3G"
      },
      "execution_count": null,
      "outputs": []
    },
    {
      "cell_type": "markdown",
      "source": [
        "### Дескриптор 3 morgan_fingerprint"
      ],
      "metadata": {
        "id": "vxVvIGvmyBq8"
      }
    },
    {
      "cell_type": "code",
      "source": [
        "def morgan_fingerprint(df):\n",
        "    mols = df['SMILES'].to_list()\n",
        "    mols = list(map(Chem.MolFromSmiles, mols))\n",
        "    descrs = [morgan_binary_features_generator(mol) for mol in mols]\n",
        "    df_with_new_desc = pd.DataFrame(descrs)\n",
        "    df_with_new_desc['target'] = list(df['SI'])\n",
        "    return df_with_new_desc"
      ],
      "metadata": {
        "id": "ahcZOyaryAck"
      },
      "execution_count": null,
      "outputs": []
    },
    {
      "cell_type": "code",
      "source": [
        "# new_df_3 = morgan_fingerprint(df_1)\n",
        "# new_df_3 = new_df_3.dropna()"
      ],
      "metadata": {
        "id": "t2VQ-3hqyahk"
      },
      "execution_count": null,
      "outputs": []
    },
    {
      "cell_type": "code",
      "source": [
        "# new_df_3.describe()"
      ],
      "metadata": {
        "id": "1aB7c4_fy6Lc"
      },
      "execution_count": null,
      "outputs": []
    },
    {
      "cell_type": "markdown",
      "source": [
        "## Разбиение new_df на тест и стади"
      ],
      "metadata": {
        "id": "8Cm8NRu48FVO"
      }
    },
    {
      "cell_type": "code",
      "source": [
        "def data_set_cut(new_df, fraction):\n",
        "    train_data, test_data = train_test_split(new_df, train_size=fraction, random_state=42)\n",
        "    X_train = train_data.drop(columns=['target'])\n",
        "    y_train = train_data['target']\n",
        "    X_test = test_data.drop(columns=['target'])\n",
        "    y_test = test_data['target']\n",
        "    return X_train, y_train, X_test, y_test"
      ],
      "metadata": {
        "id": "yNka6UNd8XUm"
      },
      "execution_count": null,
      "outputs": []
    },
    {
      "cell_type": "markdown",
      "source": [
        "## Метод главных компонент"
      ],
      "metadata": {
        "id": "_vb6lR4GBzzs"
      }
    },
    {
      "cell_type": "code",
      "source": [
        "def reduce_dimensionality(df, variance_threshold):\n",
        "    if variance_threshold == 1:\n",
        "        return df\n",
        "    # Разделите DataFrame на матрицу признаков X и столбец target y\n",
        "    X = df.drop(columns=['target'])\n",
        "    y = df['target']\n",
        "\n",
        "    # Создайте объект PCA и обучите его\n",
        "    pca = PCA()\n",
        "    pca.fit(X)\n",
        "\n",
        "    # Определите количество компонент, чтобы объяснить заданный уровень дисперсии\n",
        "    explained_variance = pca.explained_variance_ratio_\n",
        "    cumulative_variance = explained_variance.cumsum()\n",
        "\n",
        "    n_components = np.argmax(cumulative_variance >= variance_threshold) + 1\n",
        "\n",
        "    # # Создайте график зависимости дисперсии от количества компонент\n",
        "    # plt.figure(figsize=(10, 6))\n",
        "    # plt.plot(range(1, len(explained_variance) + 1), cumulative_variance, marker='o', linestyle='--', color='b')\n",
        "    # plt.xlabel('Number of Components')\n",
        "    # plt.ylabel('Cumulative Explained Variance')\n",
        "    # plt.title('Cumulative Explained Variance vs. Number of Components')\n",
        "    # plt.grid()\n",
        "\n",
        "    # Создайте новый объект PCA с выбранным количеством компонент\n",
        "    pca_selected = PCA(n_components=n_components)\n",
        "\n",
        "    # Примените PCA к данным\n",
        "    X_reduced = pca_selected.fit_transform(X)\n",
        "\n",
        "    # Создайте DataFrame с сокращенными признаками и добавьте столбец target обратно\n",
        "    df_reduced = pd.DataFrame(X_reduced, columns=[f'PC{i+1}' for i in range(n_components)])\n",
        "    df_reduced['target'] = y\n",
        "    df_reduced.dropna(inplace=True)\n",
        "    return df_reduced"
      ],
      "metadata": {
        "id": "kj3ZUDKNB3Ns"
      },
      "execution_count": null,
      "outputs": []
    },
    {
      "cell_type": "markdown",
      "source": [
        "## Модели"
      ],
      "metadata": {
        "id": "AVVc8JveuqZF"
      }
    },
    {
      "cell_type": "markdown",
      "source": [
        "### XGBRegressor"
      ],
      "metadata": {
        "id": "8-FB8d6NgQFH"
      }
    },
    {
      "cell_type": "code",
      "source": [
        "def XGBRegressor_model(X_train, X_test, y_train, y_test):\n",
        "    # Создание и обучение модели линейной регрессии\n",
        "    model = XGBRegressor()\n",
        "    model.fit(X_train, y_train)\n",
        "\n",
        "    # Предсказания на тестовом наборе\n",
        "    y_pred = model.predict(X_test)\n",
        "\n",
        "    return y_pred"
      ],
      "metadata": {
        "id": "kSNh-t6TQhRU"
      },
      "execution_count": null,
      "outputs": []
    },
    {
      "cell_type": "markdown",
      "source": [
        "### linear_regression"
      ],
      "metadata": {
        "id": "c-XIoIF4evrs"
      }
    },
    {
      "cell_type": "code",
      "source": [
        "def linear_regression_model(X_train, X_test, y_train, y_test):\n",
        "    # Создание и обучение модели линейной регрессии\n",
        "    model = LinearRegression()\n",
        "    model.fit(X_train, y_train)\n",
        "\n",
        "    # Предсказания на тестовом наборе\n",
        "    y_pred = model.predict(X_test)\n",
        "\n",
        "    return y_pred"
      ],
      "metadata": {
        "id": "Jz3pVCU8entg"
      },
      "execution_count": null,
      "outputs": []
    },
    {
      "cell_type": "markdown",
      "source": [
        "### lasso_regression"
      ],
      "metadata": {
        "id": "WESMKhYSpWPv"
      }
    },
    {
      "cell_type": "code",
      "source": [
        "def lasso_regression_model(X_train, X_test, y_train, y_test):\n",
        "\n",
        "    model = Lasso(alpha=0.01)  # Вы можете настроить параметр alpha\n",
        "    model.fit(X_train, y_train)\n",
        "\n",
        "    y_pred = model.predict(X_test)\n",
        "\n",
        "    return y_pred"
      ],
      "metadata": {
        "id": "oC1MG_mdpedC"
      },
      "execution_count": null,
      "outputs": []
    },
    {
      "cell_type": "markdown",
      "source": [
        "### ridge_regression"
      ],
      "metadata": {
        "id": "9KMykaWJrXX1"
      }
    },
    {
      "cell_type": "code",
      "source": [
        "def ridge_regression_model(X_train, X_test, y_train, y_test):\n",
        "\n",
        "    model = Ridge(alpha=0.01)  # Вы можете настроить параметр alpha\n",
        "    model.fit(X_train, y_train)\n",
        "\n",
        "    y_pred = model.predict(X_test)\n",
        "\n",
        "    return y_pred"
      ],
      "metadata": {
        "id": "TYHM3EDhrdOF"
      },
      "execution_count": null,
      "outputs": []
    },
    {
      "cell_type": "markdown",
      "source": [
        "### random_forest_regression"
      ],
      "metadata": {
        "id": "RmKgJf3ysRbt"
      }
    },
    {
      "cell_type": "code",
      "source": [
        "def random_forest_regression_model(X_train, X_test, y_train, y_test):\n",
        "\n",
        "    model = Ridge(alpha=0.01)  # Вы можете настроить параметр alpha\n",
        "    model.fit(X_train, y_train)\n",
        "\n",
        "    y_pred = model.predict(X_test)\n",
        "\n",
        "    return y_pred"
      ],
      "metadata": {
        "id": "yJylNSKysTIX"
      },
      "execution_count": null,
      "outputs": []
    },
    {
      "cell_type": "markdown",
      "source": [
        "### gradient_boosting_regression"
      ],
      "metadata": {
        "id": "9zoMdZ7us8_N"
      }
    },
    {
      "cell_type": "code",
      "source": [
        "def gradient_boosting_regression_model(X_train, X_test, y_train, y_test):\n",
        "\n",
        "    model = GradientBoostingRegressor(n_estimators=100)  # Вы можете настроить количество деревьев и другие параметры\n",
        "    model.fit(X_train, y_train)\n",
        "\n",
        "    y_pred = model.predict(X_test)\n",
        "\n",
        "    return y_pred"
      ],
      "metadata": {
        "id": "fnwe3c4etMke"
      },
      "execution_count": null,
      "outputs": []
    },
    {
      "cell_type": "markdown",
      "source": [
        "### svr_regression"
      ],
      "metadata": {
        "id": "mhvJBSvotgtm"
      }
    },
    {
      "cell_type": "code",
      "source": [
        "def svr_regression_model(X_train, X_test, y_train, y_test):\n",
        "\n",
        "    model = SVR(kernel='linear')  # Вы можете выбрать различные ядра, такие как 'linear', 'poly', 'rbf', и настроить другие параметры\n",
        "    model.fit(X_train, y_train)\n",
        "\n",
        "    y_pred = model.predict(X_test)\n",
        "\n",
        "    return y_pred"
      ],
      "metadata": {
        "id": "Fm-46IIKtj2t"
      },
      "execution_count": null,
      "outputs": []
    },
    {
      "cell_type": "markdown",
      "source": [
        "### NNS"
      ],
      "metadata": {
        "id": "9EXlwAAcratD"
      }
    },
    {
      "cell_type": "code",
      "source": [
        "def Neural_model(X_train, X_test, y_train, y_test):\n",
        "    amount_features = X_train.shape[1]\n",
        "    train_feature = tf.reshape(tf.cast(X_train, tf.float32), [-1, amount_features])\n",
        "    test_feature = tf.reshape(tf.cast(X_test, tf.float32), [-1, amount_features])\n",
        "\n",
        "    train_target = tf.reshape(tf.cast(y_train, tf.float32), [-1, 1])\n",
        "    test_target = tf.reshape(tf.cast(y_test, tf.float32), [-1, 1])\n",
        "\n",
        "    model = Sequential()\n",
        "    model.add(Dense(amount_features, activation='relu', input_shape=(train_feature.shape[1],)))\n",
        "    model.add(Dense(amount_features, activation='relu'))\n",
        "    model.add(Dense(1))\n",
        "\n",
        "    model.compile(optimizer='rmsprop', loss='mse', metrics=['mape'])\n",
        "    history = model.fit(train_feature, train_target, epochs=40, validation_split=0.1, verbose=2)\n",
        "\n",
        "    result = model.predict(X_test)\n",
        "\n",
        "    return np.array([result[index][0] for index in range(len(result))])"
      ],
      "metadata": {
        "id": "zV9R8X4DrgMj"
      },
      "execution_count": null,
      "outputs": []
    },
    {
      "cell_type": "markdown",
      "source": [
        "## Результаты"
      ],
      "metadata": {
        "id": "zPTpuTdS7JLF"
      }
    },
    {
      "cell_type": "code",
      "source": [
        "def predict(y_test, y_pred):\n",
        "    y_test = y_test.tolist()\n",
        "    y_pred = y_pred.tolist()\n",
        "    k = 0\n",
        "    for i in range(len(y_test)):\n",
        "        if (((y_test[i] >= 8) and (y_pred[i] >= 8)) or ((y_test[i] < 8) and (y_pred[i] < 8))):\n",
        "            k += 1\n",
        "    return k*100/len(y_test)"
      ],
      "metadata": {
        "id": "LWn-Hbbdn7iM"
      },
      "execution_count": null,
      "outputs": []
    },
    {
      "cell_type": "code",
      "source": [
        "def results(y_test, y_pred):\n",
        "    # Вычисление метрик оценки качества модели\n",
        "    mse = mean_squared_error(y_test, y_pred)\n",
        "    r2 = r2_score(y_test, y_pred)\n",
        "    mae = mean_absolute_error(y_test, y_pred)\n",
        "    evs = explained_variance_score(y_test, y_pred)\n",
        "    mape = mean_absolute_percentage_error(y_test, y_pred)\n",
        "    rmse = mean_squared_error(y_test, y_pred)**0.5\n",
        "\n",
        "    y_test = y_test.tolist()\n",
        "    y_pred = y_pred.tolist()\n",
        "    k = 0\n",
        "    for i in range(len(y_test)):\n",
        "        if (((y_test[i] >= 8) and (y_pred[i] >=8)) or ((y_test[i] < 8) and (y_pred[i] < 8))):\n",
        "            k += 1\n",
        "    predict_volume = k*100/len(y_test)\n",
        "    # # Возвращение предсказанных значений и метрик\n",
        "    # print(\"Mean Absolute Percentage Error (MAPE):\", mape)\n",
        "    # print(\"Root Mean Squared Error (RMSE):\", rmse)\n",
        "    # print(\"Mean Squared Error (MSE):\", mse)\n",
        "    # print(\"Mean Absolute Error (MAE):\", mae)\n",
        "    # print('='*40)\n",
        "\n",
        "    return mape, rmse, mse, mae, predict_volume"
      ],
      "metadata": {
        "id": "GKLrmRZX7ONe"
      },
      "execution_count": null,
      "outputs": []
    },
    {
      "cell_type": "code",
      "source": [
        "def graf(y_test, y_pred):\n",
        "    # Строим график\n",
        "    point_numbers = [int(index) for index in range(len(y_test))]\n",
        "\n",
        "    # Используем zip для объединения массивов и сортируем их по значениям arr1\n",
        "    sorted_arrays = sorted(zip(y_test, y_pred))\n",
        "    # Разделяем отсортированные значения обратно на два массива\n",
        "    y_test, y_pred = zip(*sorted_arrays)\n",
        "\n",
        "    fig = go.Figure()\n",
        "    fig.add_trace(go.Scatter(x=point_numbers, y=y_pred, name='Предсказанные значения', marker=dict(size=8)))\n",
        "    fig.add_trace(go.Scatter(x=point_numbers, y=y_test, name='Реальные значения', marker=dict(size=8)))\n",
        "\n",
        "    # Настройка размера\n",
        "    fig.update_traces(marker=dict(size=8))\n",
        "\n",
        "    # Добавление легенды\n",
        "    fig.update_layout(legend=dict(x=0, y=1, traceorder='normal', orientation='h'))\n",
        "\n",
        "    fig.show()"
      ],
      "metadata": {
        "id": "BY-ggkzgKH6c"
      },
      "execution_count": null,
      "outputs": []
    },
    {
      "cell_type": "markdown",
      "source": [
        "# Запуск"
      ],
      "metadata": {
        "id": "IU2xbpWWWxLM"
      }
    },
    {
      "cell_type": "code",
      "source": [
        "generator = rdNormalizedDescriptors.RDKit2DNormalized()\n",
        "new_df_1 = create_feature_dataframe(df_1)\n",
        "new_df_1 = new_df_1.dropna()\n",
        "\n",
        "new_df_3 = morgan_fingerprint(df_1)\n",
        "new_df_3 = new_df_3.dropna()"
      ],
      "metadata": {
        "id": "HeqWyGnrTArL"
      },
      "execution_count": null,
      "outputs": []
    },
    {
      "cell_type": "code",
      "source": [
        "def apply_model(model, X_train, X_test, y_train, y_test):\n",
        "    y_pred = model(X_train, X_test, y_train, y_test)\n",
        "    mape, rmse, mse, mae, predict_volume = results(y_test, y_pred)\n",
        "    # graf(y_test, y_pred)\n",
        "    return mape, rmse, mse, mae, predict_volume, model.__name__\n",
        "\n",
        "def apply_models(X_train, y_train, X_test, y_test, skip_svr=False):\n",
        "    models = [\n",
        "        XGBRegressor_model,\n",
        "        linear_regression_model,\n",
        "        lasso_regression_model,\n",
        "        ridge_regression_model,\n",
        "        random_forest_regression_model,\n",
        "        gradient_boosting_regression_model,\n",
        "        svr_regression_model,\n",
        "        Neural_model\n",
        "    ]\n",
        "    results_list = []\n",
        "    for model in models:\n",
        "        if skip_svr and model == svr_regression_model:\n",
        "            continue\n",
        "        # print(f'Работа с моделью {model}')\n",
        "        results = apply_model(model, X_train, X_test, y_train, y_test)\n",
        "        results_list.append(results)\n",
        "    return results_list"
      ],
      "metadata": {
        "id": "AxUgo1jXDYI6"
      },
      "execution_count": null,
      "outputs": []
    },
    {
      "cell_type": "code",
      "source": [
        "dataframes = {\n",
        "    \"Дескриптор 1\": new_df_1,\n",
        "    # \"Дескриптор 2\": new_df_2,\n",
        "    \"Дескриптор 3\": new_df_3\n",
        "}\n",
        "\n",
        "best_metrics = {\n",
        "    metric: [float('inf'), '', '', '', ''] if metric != 'predict_volume' else [float('-inf'), '', '', '', '']\n",
        "    for metric in [\"mape\", \"rmse\", \"mse\", \"mae\", \"predict_volume\"]\n",
        "}\n",
        "\n",
        "pca_levels = [0.7, 0.75, 0.8, 0.85, 0.9, 0.95, 1]\n",
        "fraction_levels = [0.7, 0.75, 0.8, 0.85, 0.9, 0.95]\n",
        "\n",
        "for df_name, new_df in dataframes.items():\n",
        "    for pca_level in pca_levels:\n",
        "        pca_df = reduce_dimensionality(new_df, pca_level)\n",
        "        for fraction in fraction_levels:\n",
        "            X_train, y_train, X_test, y_test = data_set_cut(pca_df, fraction)\n",
        "            skip_svr = df_name == \"Дескриптор 2\"\n",
        "            results_list = apply_models(X_train, y_train, X_test, y_test, skip_svr)\n",
        "            for mape, rmse, mse, mae, predict_volume, model_name in results_list:\n",
        "                for metric, value in zip([\"mape\", \"rmse\", \"mse\", \"mae\", \"predict_volume\"], [mape, rmse, mse, mae, predict_volume]):\n",
        "                    if metric == 'predict_volume':\n",
        "                        if value > best_metrics[metric][0]:\n",
        "                            best_metrics[metric] = [value, model_name, df_name, pca_level, fraction]\n",
        "                    else:\n",
        "                        if value < best_metrics[metric][0]:\n",
        "                            best_metrics[metric] = [value, model_name, df_name, pca_level, fraction]\n",
        "\n",
        "print(\"Лучшие результаты:\")\n",
        "for metric in [\"mape\", \"rmse\", \"mse\", \"mae\", \"predict_volume\"]:\n",
        "    print(f\"{metric.upper()}: {best_metrics[metric][0]} в модели {best_metrics[metric][1]} с дескриптором {best_metrics[metric][2]} с уровнем дисперсии {best_metrics[metric][3]} c тренировочной выборкой {best_metrics[metric][4]}\")"
      ],
      "metadata": {
        "id": "4wi9mrdsAlfc"
      },
      "execution_count": null,
      "outputs": []
    },
    {
      "cell_type": "code",
      "source": [
        "pca_df = reduce_dimensionality(new_df_2, 0.85)\n",
        "X_train, y_train, X_test, y_test = data_set_cut(pca_df, 0.9)\n",
        "y_pred = Neural_model(X_train, X_test, y_train, y_test)\n",
        "mape, rmse, mse, mae, predict_volume = results(y_test, y_pred)\n",
        "print(\"Mean Absolute Percentage Error (MAPE):\", mape)\n",
        "print(\"Root Mean Squared Error (RMSE):\", rmse)\n",
        "print(\"Mean Squared Error (MSE):\", mse)\n",
        "print(\"Mean Absolute Error (MAE):\", mae)\n",
        "print(\"Количество угаданных\", predict_volume)\n",
        "print('='*40)\n",
        "graf(y_test, y_pred)"
      ],
      "metadata": {
        "id": "Q6GiwlJlGx24"
      },
      "execution_count": null,
      "outputs": []
    }
  ]
}